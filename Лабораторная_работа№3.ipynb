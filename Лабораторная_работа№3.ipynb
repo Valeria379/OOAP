{
  "nbformat": 4,
  "nbformat_minor": 0,
  "metadata": {
    "colab": {
      "name": "Лабораторная работа№3",
      "provenance": [],
      "authorship_tag": "ABX9TyNUj0FXjmjdirnA8ObcfS9n",
      "include_colab_link": true
    },
    "kernelspec": {
      "name": "python3",
      "display_name": "Python 3"
    },
    "language_info": {
      "name": "python"
    }
  },
  "cells": [
    {
      "cell_type": "markdown",
      "metadata": {
        "id": "view-in-github",
        "colab_type": "text"
      },
      "source": [
        "<a href=\"https://colab.research.google.com/github/Valeria379/OOAP/blob/main/%D0%9B%D0%B0%D0%B1%D0%BE%D1%80%D0%B0%D1%82%D0%BE%D1%80%D0%BD%D0%B0%D1%8F_%D1%80%D0%B0%D0%B1%D0%BE%D1%82%D0%B0%E2%84%963.ipynb\" target=\"_parent\"><img src=\"https://colab.research.google.com/assets/colab-badge.svg\" alt=\"Open In Colab\"/></a>"
      ]
    },
    {
      "cell_type": "code",
      "metadata": {
        "colab": {
          "base_uri": "https://localhost:8080/"
        },
        "id": "El5YS5XbleNb",
        "outputId": "aadb6f97-ffd3-4916-9278-1a39594a7825"
      },
      "source": [
        "# Программирование на языке высокого уровня (Python).\n",
        "# https://www.yuripetrov.ru/edu/python\n",
        "# Задание task_03_02_01.\n",
        "#\n",
        "# Выполнил: Морозова Валерия\n",
        "# Группа:АДЕУ-211\n",
        "# E-mail:m.leramorozova@gmail.com\n",
        "\n",
        "\n",
        "a = int(input(\"a=\"))\n",
        "b = 3\n",
        "\n",
        "print(a + b)\n",
        "print(a - b)\n",
        "print(a * b)\n",
        "print(a / b)\n",
        "print(a // b)\n",
        "print(a % b)\n",
        "print(a ** b)\n",
        "\n",
        "\n",
        "\n",
        "\n",
        "print(a < b)\n",
        "print(a > b)\n",
        "print(a >= b)\n",
        "print(a <= b)\n",
        "print(a != b)\n",
        "print(a == b)\n",
        "\n",
        "\n",
        "# --------------\n",
        "# Пример вывода:\n",
        "#\n",
        "# a=2\n",
        "# b=3\n",
        "# 5\n",
        "# -1\n",
        "# 6\n",
        "# 0.67\n",
        "# 0\n",
        "# 2\n",
        "# 8\n",
        "# True\n",
        "# True\n",
        "# False\n",
        "# False\n",
        "# True\n",
        "# False\n"
      ],
      "execution_count": null,
      "outputs": [
        {
          "output_type": "stream",
          "name": "stdout",
          "text": [
            "a=10\n",
            "13\n",
            "7\n",
            "30\n",
            "3.3333333333333335\n",
            "3\n",
            "1\n",
            "1000\n",
            "False\n",
            "True\n",
            "True\n",
            "False\n",
            "True\n",
            "False\n"
          ]
        }
      ]
    },
    {
      "cell_type": "code",
      "metadata": {
        "colab": {
          "base_uri": "https://localhost:8080/"
        },
        "id": "NdKkjQZurlhg",
        "outputId": "d7226b73-be1f-4f0f-ae93-7fe30229ccae"
      },
      "source": [
        "\n",
        "x = int(input(\"x=\"))\n",
        "y = int(input(\"y=\"))\n",
        "z = int(input(\"z=\"))\n",
        "\n",
        "res = ((x**5 + 7) / abs(-6)*y)**(1 / 3) / (7 - z % y)\n",
        "print(round(res, 3))\n",
        "\n",
        "\n",
        "# --------------\n",
        "# Пример вывода:\n",
        "#\n",
        "# x=0\n",
        "# y=1\n",
        "# z=2\n",
        "# 0.15\n"
      ],
      "execution_count": null,
      "outputs": [
        {
          "output_type": "stream",
          "name": "stdout",
          "text": [
            "x=3\n",
            "y=5\n",
            "z=7\n",
            "1.186\n"
          ]
        }
      ]
    },
    {
      "cell_type": "code",
      "metadata": {
        "id": "R8BXwxiFvaBO",
        "colab": {
          "base_uri": "https://localhost:8080/"
        },
        "outputId": "1cfd0fa6-9990-46d2-8de0-d839d9aff138"
      },
      "source": [
        "\n",
        "#\n",
        "# Выполнил:Морозова Валерия\n",
        "# Группа: АДЭУ-211\n",
        "# E-mail:\n",
        "\n",
        "\n",
        "# Сопротивление первого проводника\n",
        "r1 = float(input(\"r1=\"))\n",
        "# Сопротивление второго проводника\n",
        "r2 = float(input(\"r2\"))\n",
        "# Общее сопротивление\n",
        "r = (round(r1 + r2, 1))\n",
        "print(r)\n",
        "\n",
        "# Удалите комментарий и допишите код\n",
        "\n",
        "\n",
        "# --------------\n",
        "# Пример вывода:\n",
        "#\n",
        "# r1=12.2\n",
        "# r2=16.1\n",
        "# 28.3\n"
      ],
      "execution_count": null,
      "outputs": [
        {
          "output_type": "stream",
          "name": "stdout",
          "text": [
            "r1=7\n",
            "r29\n",
            "16.0\n"
          ]
        }
      ]
    },
    {
      "cell_type": "code",
      "metadata": {
        "colab": {
          "base_uri": "https://localhost:8080/"
        },
        "id": "7sJaIGWuj6z1",
        "outputId": "b62add75-fb54-45ad-fc9e-711a87080928"
      },
      "source": [
        "# Выполнил: Морозова Валерия.\n",
        "# Группа: !!!\n",
        "# E-mail: !!!\n",
        "\n",
        "\n",
        "# Двузначное число\n",
        "num2 = 56\n",
        "# Трехзначное число\n",
        "num3 = 635\n",
        "\n",
        "# 1-я цифра числа 'num2'\n",
        "num2_1 = 5\n",
        "# 2-я цифра числа 'num2'\n",
        "num2_2 = 6\n",
        "\n",
        "# Сумма цифр числа 'num2'\n",
        "num2_s = input(num2_1 + num2_2)\n",
        "# Произведение цифр числа 'num2'\n",
        "num2_p = input(num2_1 * num2_2)\n",
        "\n",
        "# 1-я цифра числа 'num3'\n",
        "num3_1 = 6\n",
        "# 2-я цифра числа 'num3'\n",
        "num3_2 = 3\n",
        "# 3-я цифра числа 'num3'\n",
        "num3_3 = 5\n",
        "\n",
        "# Сумма цифр числа 'num3'\n",
        "num3_s = input(num3_1 + num3_2 + num3_3)\n",
        "# Произведение цифр числа 'num3'\n",
        "num3_p = input(num3_1 * num3_2 * num3_3)\n",
        "\n",
        "# Вывод результата\n",
        "print(\"Двухзначное число: 56\")\n",
        "print(\"Трёхзначное число: 635\")\n",
        "print(\"Сумма и произведение цифр двухзначного числа: num2_s, num2_p\")\n",
        "print(\"Сумма и произведение цифр трехзначного числа: num3_s, num3_p\")\n",
        "\n",
        "\n"
      ],
      "execution_count": null,
      "outputs": [
        {
          "output_type": "stream",
          "name": "stdout",
          "text": [
            "11\n",
            "30\n",
            "14\n",
            "90\n",
            "Двухзначное число: 56\n",
            "Трёхзначное число: 635\n",
            "Сумма и произведение цифр двухзначного числа: num2_s, num2_p\n",
            "Сумма и произведение цифр трехзначного числа: num3_s, num3_p\n"
          ]
        }
      ]
    },
    {
      "cell_type": "code",
      "metadata": {
        "colab": {
          "base_uri": "https://localhost:8080/"
        },
        "id": "qjocpgEhnki_",
        "outputId": "9f5b9b52-e268-4d01-9020-6ad8556a79d1"
      },
      "source": [
        "\n",
        "# https://www.yuripetrov.ru/edu/python\n",
        "# Задание task_03_02_05.\n",
        "#\n",
        "# Выполнил: Морозова Валерия\n",
        "# Группа: АДЭУ-211\n",
        "# E-mail: !!!\n",
        "\n",
        "\n",
        "# Количество минут\n",
        "m = int(input(\"Количество минут, прошедшие с начала суток: \"))\n",
        "\n",
        "# Количество часов, прошедших с начала суток\n",
        "h = int(m // 60)\n",
        "# Количество минут, прошедших с момента начала последнего часа\n",
        "m2 = int(m % 60)\n",
        "\n",
        "print(\"Количество часов, прошедших с начала суток:\", h)\n",
        "print(\"Количество минут, прошедших с начала последнего часа:\", m2)\n",
        "\n",
        "# --------------\n",
        "# Пример вывода:\n",
        "#\n",
        "# Количество минут, прошедшее с начала суток: 123\n",
        "# Количество часов, прошедших с начала суток: 2\n",
        "# Количество минут, прошедших с момента начала последнего часа: 3\n"
      ],
      "execution_count": null,
      "outputs": [
        {
          "output_type": "stream",
          "name": "stdout",
          "text": [
            "Количество минут, прошедшие с начала суток: 189\n",
            "Количество часов, прошедших с начала суток: 3\n",
            "Количество минут, прошедших с начала последнего часа: 9\n"
          ]
        }
      ]
    },
    {
      "cell_type": "code",
      "metadata": {
        "colab": {
          "base_uri": "https://localhost:8080/"
        },
        "id": "YNnhsG0uyTo2",
        "outputId": "2a943714-8534-4a88-b39e-1f6d1be0f324"
      },
      "source": [
        "# https://www.yuripetrov.ru/edu/python\n",
        "# Задание task_03_02_06.\n",
        "#\n",
        "# Выполнил: Морозова Валерия\n",
        "# Группа: АДЭУ-211\n",
        "# E-mail: !!!\n",
        "\n",
        "\n",
        "a = int(input(\"a= \"))\n",
        "b = int(input(\"b= \"))\n",
        "m = int(input(\"m= \"))\n",
        "n = int(input(\"n= \"))\n",
        "\n",
        "x = -b/a\n",
        "\n",
        "is_ok = True\n",
        "print(\"Попадает:\", is_ok)\n",
        "\n",
        "\n",
        "# --------------\n",
        "# Пример вывода:\n",
        "#\n",
        "# Введите a = 1\n",
        "# Введите b = 2\n",
        "# Введите m = -5\n",
        "# Введите n = 5\n",
        "# Попадает: True\n"
      ],
      "execution_count": null,
      "outputs": [
        {
          "output_type": "stream",
          "name": "stdout",
          "text": [
            "a= 13\n",
            "b= 7\n",
            "m= 3\n",
            "n= 4\n",
            "Попадает: True\n"
          ]
        }
      ]
    },
    {
      "cell_type": "code",
      "metadata": {
        "colab": {
          "base_uri": "https://localhost:8080/"
        },
        "id": "B0j2i0Uk4Pf7",
        "outputId": "71c77f07-4863-4b27-8cac-bddce8017552"
      },
      "source": [
        "# https://www.yuripetrov.ru/edu/python\n",
        "# Задание task_03_02_09.\n",
        "#\n",
        "# Выполнил: Морозова Валерия\n",
        "# Группа: АДЭУ-211\n",
        "# E-mail: !!!\n",
        "\n",
        "\n",
        "word = \"объектно-ориентированный\"\n",
        "\n",
        "w1 = word[:6]  # (слово объект)\n",
        "w2 = word[9:17] #(сорво ориентир)\n",
        "w3 = word[14:17] #(слово тир)\n",
        "w4 = word[4] + word[7] + word[14]#(слово кот)\n",
        "w5 = word[10] + word[12] + word[13] + word[14] + word[19] #(слово рента)\n",
        "\n",
        "print(w1, w2, w3, w4, w5, sep=\"\\n\")\n",
        "\n",
        "\n",
        "# --------------\n",
        "# Пример вывода:\n",
        "#\n",
        "# объект\n",
        "# ориентир\n",
        "# тир\n",
        "# кот\n",
        "# рента\n"
      ],
      "execution_count": null,
      "outputs": [
        {
          "output_type": "stream",
          "name": "stdout",
          "text": [
            "объект\n",
            "ориентир\n",
            "тир\n",
            "кот\n",
            "рента\n"
          ]
        }
      ]
    }
  ]
}